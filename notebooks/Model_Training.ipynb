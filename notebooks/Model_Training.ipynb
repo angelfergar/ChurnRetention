{
  "nbformat": 4,
  "nbformat_minor": 0,
  "metadata": {
    "colab": {
      "provenance": [],
      "authorship_tag": "ABX9TyOVv5m9KlaC8pGyAqDJy+Oy"
    },
    "kernelspec": {
      "name": "python3",
      "display_name": "Python 3"
    },
    "language_info": {
      "name": "python"
    },
    "widgets": {
      "application/vnd.jupyter.widget-state+json": {
        "6d828af47d864674941a58668656af25": {
          "model_module": "@jupyter-widgets/controls",
          "model_name": "HBoxModel",
          "model_module_version": "1.5.0",
          "state": {
            "_dom_classes": [],
            "_model_module": "@jupyter-widgets/controls",
            "_model_module_version": "1.5.0",
            "_model_name": "HBoxModel",
            "_view_count": null,
            "_view_module": "@jupyter-widgets/controls",
            "_view_module_version": "1.5.0",
            "_view_name": "HBoxView",
            "box_style": "",
            "children": [
              "IPY_MODEL_47f3d6975d444403884568c8f4e10477",
              "IPY_MODEL_8eb6463448b04070b4dbb0fe44772f3a",
              "IPY_MODEL_c632429fd0544df2bf909558b661d51e"
            ],
            "layout": "IPY_MODEL_0272f1d0a17240218868769402d42ffa"
          }
        },
        "47f3d6975d444403884568c8f4e10477": {
          "model_module": "@jupyter-widgets/controls",
          "model_name": "HTMLModel",
          "model_module_version": "1.5.0",
          "state": {
            "_dom_classes": [],
            "_model_module": "@jupyter-widgets/controls",
            "_model_module_version": "1.5.0",
            "_model_name": "HTMLModel",
            "_view_count": null,
            "_view_module": "@jupyter-widgets/controls",
            "_view_module_version": "1.5.0",
            "_view_name": "HTMLView",
            "description": "",
            "description_tooltip": null,
            "layout": "IPY_MODEL_3f03c7825fd74f41a5aac1c2d672c3bd",
            "placeholder": "​",
            "style": "IPY_MODEL_33a019848db74edc8ab6b692465124b0",
            "value": "100%"
          }
        },
        "8eb6463448b04070b4dbb0fe44772f3a": {
          "model_module": "@jupyter-widgets/controls",
          "model_name": "FloatProgressModel",
          "model_module_version": "1.5.0",
          "state": {
            "_dom_classes": [],
            "_model_module": "@jupyter-widgets/controls",
            "_model_module_version": "1.5.0",
            "_model_name": "FloatProgressModel",
            "_view_count": null,
            "_view_module": "@jupyter-widgets/controls",
            "_view_module_version": "1.5.0",
            "_view_name": "ProgressView",
            "bar_style": "success",
            "description": "",
            "description_tooltip": null,
            "layout": "IPY_MODEL_e089b811c68748598938559042d3e107",
            "max": 2113,
            "min": 0,
            "orientation": "horizontal",
            "style": "IPY_MODEL_d2a143f04ccd4774bfa184fbc772d24e",
            "value": 2113
          }
        },
        "c632429fd0544df2bf909558b661d51e": {
          "model_module": "@jupyter-widgets/controls",
          "model_name": "HTMLModel",
          "model_module_version": "1.5.0",
          "state": {
            "_dom_classes": [],
            "_model_module": "@jupyter-widgets/controls",
            "_model_module_version": "1.5.0",
            "_model_name": "HTMLModel",
            "_view_count": null,
            "_view_module": "@jupyter-widgets/controls",
            "_view_module_version": "1.5.0",
            "_view_name": "HTMLView",
            "description": "",
            "description_tooltip": null,
            "layout": "IPY_MODEL_88834ced2e30455cbda4bf42f1b220fb",
            "placeholder": "​",
            "style": "IPY_MODEL_60ecb42add134717b88580186ed11537",
            "value": " 2113/2113 [34:56&lt;00:00,  1.13s/it]"
          }
        },
        "0272f1d0a17240218868769402d42ffa": {
          "model_module": "@jupyter-widgets/base",
          "model_name": "LayoutModel",
          "model_module_version": "1.2.0",
          "state": {
            "_model_module": "@jupyter-widgets/base",
            "_model_module_version": "1.2.0",
            "_model_name": "LayoutModel",
            "_view_count": null,
            "_view_module": "@jupyter-widgets/base",
            "_view_module_version": "1.2.0",
            "_view_name": "LayoutView",
            "align_content": null,
            "align_items": null,
            "align_self": null,
            "border": null,
            "bottom": null,
            "display": null,
            "flex": null,
            "flex_flow": null,
            "grid_area": null,
            "grid_auto_columns": null,
            "grid_auto_flow": null,
            "grid_auto_rows": null,
            "grid_column": null,
            "grid_gap": null,
            "grid_row": null,
            "grid_template_areas": null,
            "grid_template_columns": null,
            "grid_template_rows": null,
            "height": null,
            "justify_content": null,
            "justify_items": null,
            "left": null,
            "margin": null,
            "max_height": null,
            "max_width": null,
            "min_height": null,
            "min_width": null,
            "object_fit": null,
            "object_position": null,
            "order": null,
            "overflow": null,
            "overflow_x": null,
            "overflow_y": null,
            "padding": null,
            "right": null,
            "top": null,
            "visibility": null,
            "width": null
          }
        },
        "3f03c7825fd74f41a5aac1c2d672c3bd": {
          "model_module": "@jupyter-widgets/base",
          "model_name": "LayoutModel",
          "model_module_version": "1.2.0",
          "state": {
            "_model_module": "@jupyter-widgets/base",
            "_model_module_version": "1.2.0",
            "_model_name": "LayoutModel",
            "_view_count": null,
            "_view_module": "@jupyter-widgets/base",
            "_view_module_version": "1.2.0",
            "_view_name": "LayoutView",
            "align_content": null,
            "align_items": null,
            "align_self": null,
            "border": null,
            "bottom": null,
            "display": null,
            "flex": null,
            "flex_flow": null,
            "grid_area": null,
            "grid_auto_columns": null,
            "grid_auto_flow": null,
            "grid_auto_rows": null,
            "grid_column": null,
            "grid_gap": null,
            "grid_row": null,
            "grid_template_areas": null,
            "grid_template_columns": null,
            "grid_template_rows": null,
            "height": null,
            "justify_content": null,
            "justify_items": null,
            "left": null,
            "margin": null,
            "max_height": null,
            "max_width": null,
            "min_height": null,
            "min_width": null,
            "object_fit": null,
            "object_position": null,
            "order": null,
            "overflow": null,
            "overflow_x": null,
            "overflow_y": null,
            "padding": null,
            "right": null,
            "top": null,
            "visibility": null,
            "width": null
          }
        },
        "33a019848db74edc8ab6b692465124b0": {
          "model_module": "@jupyter-widgets/controls",
          "model_name": "DescriptionStyleModel",
          "model_module_version": "1.5.0",
          "state": {
            "_model_module": "@jupyter-widgets/controls",
            "_model_module_version": "1.5.0",
            "_model_name": "DescriptionStyleModel",
            "_view_count": null,
            "_view_module": "@jupyter-widgets/base",
            "_view_module_version": "1.2.0",
            "_view_name": "StyleView",
            "description_width": ""
          }
        },
        "e089b811c68748598938559042d3e107": {
          "model_module": "@jupyter-widgets/base",
          "model_name": "LayoutModel",
          "model_module_version": "1.2.0",
          "state": {
            "_model_module": "@jupyter-widgets/base",
            "_model_module_version": "1.2.0",
            "_model_name": "LayoutModel",
            "_view_count": null,
            "_view_module": "@jupyter-widgets/base",
            "_view_module_version": "1.2.0",
            "_view_name": "LayoutView",
            "align_content": null,
            "align_items": null,
            "align_self": null,
            "border": null,
            "bottom": null,
            "display": null,
            "flex": null,
            "flex_flow": null,
            "grid_area": null,
            "grid_auto_columns": null,
            "grid_auto_flow": null,
            "grid_auto_rows": null,
            "grid_column": null,
            "grid_gap": null,
            "grid_row": null,
            "grid_template_areas": null,
            "grid_template_columns": null,
            "grid_template_rows": null,
            "height": null,
            "justify_content": null,
            "justify_items": null,
            "left": null,
            "margin": null,
            "max_height": null,
            "max_width": null,
            "min_height": null,
            "min_width": null,
            "object_fit": null,
            "object_position": null,
            "order": null,
            "overflow": null,
            "overflow_x": null,
            "overflow_y": null,
            "padding": null,
            "right": null,
            "top": null,
            "visibility": null,
            "width": null
          }
        },
        "d2a143f04ccd4774bfa184fbc772d24e": {
          "model_module": "@jupyter-widgets/controls",
          "model_name": "ProgressStyleModel",
          "model_module_version": "1.5.0",
          "state": {
            "_model_module": "@jupyter-widgets/controls",
            "_model_module_version": "1.5.0",
            "_model_name": "ProgressStyleModel",
            "_view_count": null,
            "_view_module": "@jupyter-widgets/base",
            "_view_module_version": "1.2.0",
            "_view_name": "StyleView",
            "bar_color": null,
            "description_width": ""
          }
        },
        "88834ced2e30455cbda4bf42f1b220fb": {
          "model_module": "@jupyter-widgets/base",
          "model_name": "LayoutModel",
          "model_module_version": "1.2.0",
          "state": {
            "_model_module": "@jupyter-widgets/base",
            "_model_module_version": "1.2.0",
            "_model_name": "LayoutModel",
            "_view_count": null,
            "_view_module": "@jupyter-widgets/base",
            "_view_module_version": "1.2.0",
            "_view_name": "LayoutView",
            "align_content": null,
            "align_items": null,
            "align_self": null,
            "border": null,
            "bottom": null,
            "display": null,
            "flex": null,
            "flex_flow": null,
            "grid_area": null,
            "grid_auto_columns": null,
            "grid_auto_flow": null,
            "grid_auto_rows": null,
            "grid_column": null,
            "grid_gap": null,
            "grid_row": null,
            "grid_template_areas": null,
            "grid_template_columns": null,
            "grid_template_rows": null,
            "height": null,
            "justify_content": null,
            "justify_items": null,
            "left": null,
            "margin": null,
            "max_height": null,
            "max_width": null,
            "min_height": null,
            "min_width": null,
            "object_fit": null,
            "object_position": null,
            "order": null,
            "overflow": null,
            "overflow_x": null,
            "overflow_y": null,
            "padding": null,
            "right": null,
            "top": null,
            "visibility": null,
            "width": null
          }
        },
        "60ecb42add134717b88580186ed11537": {
          "model_module": "@jupyter-widgets/controls",
          "model_name": "DescriptionStyleModel",
          "model_module_version": "1.5.0",
          "state": {
            "_model_module": "@jupyter-widgets/controls",
            "_model_module_version": "1.5.0",
            "_model_name": "DescriptionStyleModel",
            "_view_count": null,
            "_view_module": "@jupyter-widgets/base",
            "_view_module_version": "1.2.0",
            "_view_name": "StyleView",
            "description_width": ""
          }
        }
      }
    }
  },
  "cells": [
    {
      "cell_type": "markdown",
      "source": [
        "# 1. Instalación e importación de bibliotecas"
      ],
      "metadata": {
        "id": "qbEbC3Cp1tJP"
      }
    },
    {
      "cell_type": "code",
      "source": [
        "!git clone https://github.com/angelfergar/ChurnRetention-SP.git"
      ],
      "metadata": {
        "colab": {
          "base_uri": "https://localhost:8080/"
        },
        "id": "XUtqJcH41w2-",
        "outputId": "deaf55e0-4acd-4961-e48e-1d27463d6fd7"
      },
      "execution_count": 2,
      "outputs": [
        {
          "output_type": "stream",
          "name": "stdout",
          "text": [
            "fatal: destination path 'ChurnRetention-SP' already exists and is not an empty directory.\n"
          ]
        }
      ]
    },
    {
      "cell_type": "code",
      "execution_count": 3,
      "metadata": {
        "id": "1Ju9kFLZ1mdH"
      },
      "outputs": [],
      "source": [
        "import numpy as np\n",
        "import pandas as pd\n",
        "import matplotlib\n",
        "import matplotlib.pyplot as plt\n",
        "import seaborn as sns\n",
        "\n",
        "from imblearn.pipeline import Pipeline\n",
        "from imblearn.over_sampling import SMOTE\n",
        "from imblearn.under_sampling import RandomUnderSampler\n",
        "\n",
        "from sklearn.model_selection import train_test_split, GridSearchCV, StratifiedKFold\n",
        "from sklearn.metrics import confusion_matrix, classification_report, roc_curve, roc_auc_score, precision_score, recall_score, f1_score, average_precision_score\n",
        "from sklearn.metrics import precision_recall_curve, auc\n",
        "import shap\n",
        "from sklearn.linear_model import LogisticRegression\n",
        "from sklearn.tree import DecisionTreeClassifier\n",
        "from sklearn.ensemble import RandomForestClassifier\n",
        "from xgboost import XGBClassifier\n",
        "from lightgbm import LGBMClassifier"
      ]
    },
    {
      "cell_type": "code",
      "source": [
        "dataset_path = '/content/ChurnRetention-SP/data/preprocessed_customerChurn.csv'\n",
        "df = pd.read_csv(dataset_path)"
      ],
      "metadata": {
        "id": "xtcLibBY14q3"
      },
      "execution_count": 4,
      "outputs": []
    },
    {
      "cell_type": "markdown",
      "source": [
        "# 2. Equilibrado de datos"
      ],
      "metadata": {
        "id": "ksnVUMkF1_-e"
      }
    },
    {
      "cell_type": "markdown",
      "source": [
        "Creamos los dataset que usaremos para el entrenamiento de los modelos"
      ],
      "metadata": {
        "id": "D9saPSoD2DPE"
      }
    },
    {
      "cell_type": "code",
      "source": [
        "df_X = df.drop('Churn Label', axis=1)\n",
        "df_y = df['Churn Label']"
      ],
      "metadata": {
        "id": "KJEmNPZX2sMt"
      },
      "execution_count": 5,
      "outputs": []
    },
    {
      "cell_type": "code",
      "source": [
        "X_train, X_test, y_train, y_test = train_test_split(df_X, df_y, test_size=0.3, random_state=0)"
      ],
      "metadata": {
        "id": "0ANMlg3g25CW"
      },
      "execution_count": 6,
      "outputs": []
    },
    {
      "cell_type": "markdown",
      "source": [
        "Aumentamos de forma sintética la clase minoritaria un 65% y reduce la clase mayoritaria en un 25% (Se llega a estas cifras a base de prueba y error). De esta forma, pasamos de tener una proporción de 3:1 a una de 1.25 sin introducir un exceso de ruido que pueda provocar overfitting en el modelo ni perder una gran cantidad de datos."
      ],
      "metadata": {
        "id": "4V0nlICy28lL"
      }
    },
    {
      "cell_type": "code",
      "source": [
        "smote = SMOTE(sampling_strategy=0.6)\n",
        "under = RandomUnderSampler(sampling_strategy=0.8)\n",
        "\n",
        "# Creamos un pipeline para aplicar ambas técnicas a la vez\n",
        "pipeline = Pipeline([('smote', smote), ('under', under)])\n",
        "\n",
        "# Obtenemos dos nuevos datasets con los datos equilibrados\n",
        "X_train_smote, y_train_smote = pipeline.fit_resample(X_train, y_train)\n",
        "\n",
        "print('Distribución de clases antes de Balanceo:', y_train.value_counts())\n",
        "print('Distribución de clases después de Balanceo:', pd.Series(y_train_smote).value_counts())"
      ],
      "metadata": {
        "colab": {
          "base_uri": "https://localhost:8080/"
        },
        "id": "3mAKys6529bH",
        "outputId": "20e22efb-c244-4c50-d1c8-a14a519200e1"
      },
      "execution_count": 7,
      "outputs": [
        {
          "output_type": "stream",
          "name": "stdout",
          "text": [
            "Distribución de clases antes de Balanceo: Churn Label\n",
            "0    3615\n",
            "1    1315\n",
            "Name: count, dtype: int64\n",
            "Distribución de clases después de Balanceo: Churn Label\n",
            "0    2711\n",
            "1    2169\n",
            "Name: count, dtype: int64\n"
          ]
        }
      ]
    },
    {
      "cell_type": "markdown",
      "source": [
        "Este ajuste no supone una reducción excesiva ya que se han eliminado 904 muestras de la clase mayoritaria. De la misma forma, el haber añadido, de forma sintética, 854 muestras a la clase minoritaria no debería crear mucho ruido a la hora de desarrollar los modelos, por lo que no tendría que haber problemas de overfitting.\n",
        "\n",
        "Este equilibrado se utilizará como punto de partida para optimizar los\n",
        "diferentes modelos, pero se usarán una serie de valores adicionales a los elegidos cuando apliquemos las técnicas de validación cruzada y grid search sobre el modelo que mejores métricas haya obtenido.\n",
        "\n"
      ],
      "metadata": {
        "id": "TaQ5GyyC3k5p"
      }
    },
    {
      "cell_type": "markdown",
      "source": [
        "# 3. Entrenamiento de los modelos"
      ],
      "metadata": {
        "id": "zfvCTX8S3bcT"
      }
    },
    {
      "cell_type": "markdown",
      "source": [
        "En este apartado vamos a trabajar con cinco modelos de machine learning: **Linear Regression, Decision Tree, Random Forest, XGBoost y LightGBM.** El objetivo es entrenar los modelos y analizar las métricas que son más relevantes en el caso tratado.\n",
        "\n",
        "Al contar con un cierto desbalance en el dataset, métricas como Precision y Recall pueden no ser suficientes para evaluar el rendimiento de los modelos. Por una parte, la precisión podría verse afectada por el incremento de falsos positivos, dado que SMOTE ha generado casos sintéticos que podrían aumentar las predicciones de los clientes que se han dado de baja. Por otra parte, el Recall podría aumentar por el mayor énfasis dado a la clase minoritaria, pero esto no significa que se pueda garantizar que las predicciones sean consistentes o útiles en el contexto trabajado.\n",
        "\n",
        "Debido a estas razones, **usaremos F1-Score como métrica principal** para determinar la eficacia de los modelos. Esto se debe a que combina Precision y Recall, penalizando modelos que tengan un desequilibrio entre ambas. Esto es particularmente importante tras haber aplicado las técnicas de equilibrado de datos, ya que el F1-Score permite verificar si el modelo realmente ha aprendido a identificar de manera efectiva los casos de clientes que se han dado de baja.\n",
        "\n",
        "También **usaremos otras métricas como la ROC Curve y la Precision-Recall Curve**. Es cierto que la ROC Curve ya que el dataset tratado cuenta con un cierto rango de desbalanceo, y esta métrica tiende a obtener una mayoría de verdaderos negativos, lo que puede hacer que esta métrica se vea un poco inflada. Por ello, también analizaremos la Precisión-Recall Curve, ya que esta es mucho más óptima en contextos donde existan desequilibrios entre las clases, ya que refleja cual es el rendimiento de la clase minoritaria.\n",
        "\n"
      ],
      "metadata": {
        "id": "aHXC4O1w3g0a"
      }
    },
    {
      "cell_type": "markdown",
      "source": [
        "Crearemos una serie de funciones para poder reutilizar código y mostrar más fácilmente todo el reporte de cada uno de los modelos. El primer paso será entrenar el modelo y mostrar las features que más impactan a la hora de predecir el Churn"
      ],
      "metadata": {
        "id": "gSzss1wHp7vM"
      }
    },
    {
      "cell_type": "code",
      "source": [
        "# Con esta función entrenamos el modelo, vemos la importancia de las features\n",
        "def train_and_features(model_type, X_train, X_test, y_train, y_test):\n",
        "\n",
        "  # Entrenamos el modelo y realizamos predicciones\n",
        "  model_type.fit(X_train, y_train)\n",
        "  y_pred = model_type.predict(X_test)\n",
        "\n",
        "  # Mostramos las métricas del modelo\n",
        "  print(f'Métricas: \\n {classification_report(y_test, y_pred)}')\n",
        "\n",
        "  # Obtenemos la importancia de las diferentes features\n",
        "  feature_names = X_train.columns\n",
        "  # Creamos este condicional ya que la Regresión Logística no usa feature_importances_\n",
        "  if hasattr(model_type, 'coef_'):\n",
        "      importance = model_type.coef_[0]\n",
        "  elif hasattr(model_type, 'feature_importances_'):\n",
        "      importance = model_type.feature_importances_\n",
        "  # Mostramos las 10 features más importantes\n",
        "  print('Feature más importantes:')\n",
        "  print(pd.DataFrame(importance, index=feature_names, columns=['Importance']).sort_values(by='Importance', ascending=False).head(10))\n",
        "\n",
        "  # Devolvemos model e y_pred para poder usar este valor en otras funciones\n",
        "  return y_pred"
      ],
      "metadata": {
        "id": "Vw8qMp5Ok3NX"
      },
      "execution_count": 65,
      "outputs": []
    },
    {
      "cell_type": "code",
      "source": [
        "# Mostramos los valores SHAP de las diferentes features para cada una de las clases\n",
        "def show_shap(model_type, X_train, X_test):\n",
        "\n",
        "  # Creamos el explainer de SHAP\n",
        "  if hasattr(model_type, 'feature_importances_'):  # Para modelos basados en árboles\n",
        "      explainer = shap.TreeExplainer(model_type)\n",
        "  else:  # Para modelos no basados en árboles (por ejemplo, Regresión Logística)\n",
        "      explainer = shap.KernelExplainer(model_type.predict_proba, shap.sample(X_train, 100))\n",
        "\n",
        "  shap_values = explainer.shap_values(X_test)\n",
        "\n",
        "  # Creamos una lista con los valores de ambas clases para Churn Label\n",
        "  shap_as_list = []\n",
        "  for i in range(len(model_type.classes_)):\n",
        "      shap_as_list.append(shap_values[:, :, i]) # Obtenemos los valores de Retained y Churned\n",
        "\n",
        "  # Mostramos la importancia global de las features\n",
        "  print('\\nFeature Importance con SHAP')\n",
        "  shap.summary_plot(shap_as_list, X_test, plot_type=\"bar\", feature_names=X_test.columns, max_display=10, plot_size=(9,6))\n",
        "  print('\\n')"
      ],
      "metadata": {
        "id": "Mbjw8nE7DcUS"
      },
      "execution_count": 78,
      "outputs": []
    },
    {
      "cell_type": "markdown",
      "source": [
        "A continuación nos centraremos en mostrar, con una serie de funciones, la matriz de confusión y las métricas ROC Curve y Precision-Recall para mostrar más información sobre la efectividad y las métricas de cada modelo"
      ],
      "metadata": {
        "id": "o26PRbmTqWjb"
      }
    },
    {
      "cell_type": "code",
      "source": [
        "# Genera y muestra una matriz de confusión con un mapa de calor\n",
        "def show_conf_matrix(y_test, y_pred):\n",
        "\n",
        "  # Calculamos la matriz de confusión\n",
        "  conf_matrix = confusion_matrix(y_test, y_pred)\n",
        "\n",
        "  # Heatmap para representar la matriz de confusión\n",
        "  plt.figure(figsize=(12, 6))\n",
        "  sns.heatmap(conf_matrix, annot=True, fmt='d', cmap='Greens', xticklabels=['Retained', 'Churned'], yticklabels=['Retained', 'Churned']);\n",
        "  plt.ylabel('Etiquetas Verdaderas')\n",
        "  plt.xlabel('Predicciones')\n",
        "  plt.title('Matriz de Confusión')\n",
        "  plt.show()\n",
        "  print('\\n')"
      ],
      "metadata": {
        "id": "XPqXvgbtquv3"
      },
      "execution_count": 12,
      "outputs": []
    },
    {
      "cell_type": "code",
      "source": [
        "# Genera y muestra la curva ROC para evaluar el rendimiento del modelo\n",
        "def show_roc_curve(model_type, X_test, y_test):\n",
        "\n",
        "  # Obtenemos las probabilidades de la clase 1\n",
        "  y_prob = model_type.predict_proba(X_test)[:,1]\n",
        "  # Calculamos la tasa de falsos positivos (FPR) y verdaderos positivos (TPR)\n",
        "  fpr, tpr, thresholds = roc_curve(y_test, y_prob)\n",
        "\n",
        "  # Dibujamos la línea base\n",
        "  plt.plot([0, 1], [0, 1], 'k--' )\n",
        "  # Mostramos la Curva ROC\n",
        "  plt.plot(fpr, tpr,color = \"r\")\n",
        "  plt.xlabel('Falsos Positivos')\n",
        "  plt.ylabel('Verdaderos positivos')\n",
        "  plt.title('ROC Curve',fontsize=16)\n",
        "  plt.show();\n",
        "\n",
        "  # Calculamos el AUC\n",
        "  auc_roc = roc_auc_score(y_test, y_prob)\n",
        "  print(f'ROC Curve AUC: {auc_roc}\\n')"
      ],
      "metadata": {
        "id": "YIe1TV_PsQnW"
      },
      "execution_count": 13,
      "outputs": []
    },
    {
      "cell_type": "code",
      "source": [
        "def show_precision_recall(model_type, X_test, y_test):\n",
        "\n",
        "  # Genera y muestra la curva Precision-Recall para evaluar el rendimiento del modelo\n",
        "  y_prob = model_type.predict_proba(X_test)[:, 1]\n",
        "\n",
        "  # Calculamos la precisión y recall en diferentes umbrales\n",
        "  precision, recall, thresholds = precision_recall_curve(y_test, y_prob)\n",
        "  # Calculamos AUC-PR\n",
        "  pr_auc = auc(recall, precision)\n",
        "\n",
        "  # Configuramos la gráfica de la curva Precision-Recall\n",
        "  plt.figure(figsize=(8, 6))\n",
        "  plt.plot(recall, precision, color='b', label=f'Precision-Recall curve (AUC = {pr_auc:.2f})')\n",
        "  plt.fill_between(recall, precision, alpha=0.2, color='blue')\n",
        "  plt.title('Precision-Recall Curve')\n",
        "  plt.xlabel('Recall')\n",
        "  plt.ylabel('Precision')\n",
        "  plt.legend(loc='upper right')\n",
        "  plt.grid(True)\n",
        "  plt.show()\n",
        "\n",
        "  # Mostramos el valor del AUC-PR\n",
        "  print(f'Precision-Recall AUC: {pr_auc}')\n",
        ""
      ],
      "metadata": {
        "id": "E7jHuDb_tsyq"
      },
      "execution_count": 14,
      "outputs": []
    },
    {
      "cell_type": "markdown",
      "source": [
        "Con todas estas funciones obtendremos un reporte completo sobre cada uno de los modelos que contenga:\n",
        "\n",
        "\n",
        "*   **Entrenar un modelo**\n",
        "*   **Obtener las features que más peso tienen** a la hora de predecir el Churn\n",
        "*   **Mostrar la Matriz de Confusión**\n",
        "*   **Mostrar la ROC Curve**\n",
        "*   **Mostrar la curva Precision-Recall**\n",
        "\n"
      ],
      "metadata": {
        "id": "W-g4EhAPv9Qh"
      }
    },
    {
      "cell_type": "code",
      "source": [
        "# PLACEHOLDER\n",
        "'''\n",
        "# Establecemos una serie de variables en las que ponemos la información de cada modelo y sus parámetros\n",
        "dt_model = DecisionTreeClassifier(class_weight='balanced', max_depth=5, min_samples_split=10) # Decision Tree\n",
        "rf_model = RandomForestClassifier(class_weight='balanced', n_estimators=200, max_depth=25, min_samples_split=5) # Random Forest\n",
        "xgb_model = XGBClassifier(n_estimators=50, scale_pos_weight=1.25, learning_rate=0.1,max_depth = 5, min_child_weight=2, colsample_bytree=0.3) # XGBoost\n",
        "lgbm_model = LGBMClassifier(n_estimators=10,learning_rate=0.2,max_depth=6,scale_pos_weight=1.12,num_leaves=19, force_col_wise=True) # LigthGBM\n",
        "'''"
      ],
      "metadata": {
        "colab": {
          "base_uri": "https://localhost:8080/",
          "height": 89
        },
        "id": "gwSlyncXdjsS",
        "outputId": "658de598-3015-43e1-9643-857aa27ddadb"
      },
      "execution_count": 90,
      "outputs": [
        {
          "output_type": "execute_result",
          "data": {
            "text/plain": [
              "\"\\n# Establecemos una serie de variables en las que ponemos la información de cada modelo y sus parámetros\\ndt_model = DecisionTreeClassifier(class_weight='balanced', max_depth=5, min_samples_split=10) # Decision Tree\\nrf_model = RandomForestClassifier(class_weight='balanced', n_estimators=200, max_depth=25, min_samples_split=5) # Random Forest\\nxgb_model = XGBClassifier(n_estimators=50, scale_pos_weight=1.25, learning_rate=0.1,max_depth = 5, min_child_weight=2, colsample_bytree=0.3) # XGBoost\\nlgbm_model = LGBMClassifier(n_estimators=10,learning_rate=0.2,max_depth=6,scale_pos_weight=1.12,num_leaves=19, force_col_wise=True) # LigthGBM\\n\""
            ],
            "application/vnd.google.colaboratory.intrinsic+json": {
              "type": "string"
            }
          },
          "metadata": {},
          "execution_count": 90
        }
      ]
    },
    {
      "cell_type": "markdown",
      "source": [
        "## 3.1 Regresión Logística"
      ],
      "metadata": {
        "id": "lgLsnQE1dv_m"
      }
    },
    {
      "cell_type": "markdown",
      "source": [
        "El primer modelo que desarrollaremos es el de Regresión Logística. No se espera conseguir unas métricas excelentes con este modelo. Se usará como baseline para comparar con el resto de modelos, identificar posibles puntos de mejora general\n",
        "Al ser un modelo que permite evaluar las métricas\n",
        "rápidamente, se usará para identificar posibles puntos de mejora para otros modelos y ver\n",
        "qué características son más importantes.\n"
      ],
      "metadata": {
        "id": "SeGp7PD3dz6V"
      }
    },
    {
      "cell_type": "markdown",
      "source": [
        "### 3.1.1 Entrenamiento y feature_importance"
      ],
      "metadata": {
        "id": "uEkZCcGaeiiZ"
      }
    },
    {
      "cell_type": "code",
      "source": [
        "# Establecemos los parámetros para el modelo de Regresión Logística y lo entrenamos\n",
        "log_model = LogisticRegression(class_weight='balanced', max_iter=1000, solver='liblinear')\n",
        "\n",
        "# Entrenamos el modelo y obtenemos predicciones\n",
        "y_pred_log = train_and_features(log_model, X_train_smote, X_test, y_train_smote, y_test)"
      ],
      "metadata": {
        "colab": {
          "base_uri": "https://localhost:8080/"
        },
        "id": "ohR9Nz8OduCT",
        "outputId": "09f759a1-e4d0-448a-edc3-8cffdb65bb63"
      },
      "execution_count": 84,
      "outputs": [
        {
          "output_type": "stream",
          "name": "stdout",
          "text": [
            "Métricas: \n",
            "               precision    recall  f1-score   support\n",
            "\n",
            "           0       0.90      0.76      0.83      1559\n",
            "           1       0.53      0.77      0.63       554\n",
            "\n",
            "    accuracy                           0.76      2113\n",
            "   macro avg       0.72      0.76      0.73      2113\n",
            "weighted avg       0.81      0.76      0.77      2113\n",
            "\n",
            "Feature más importantes:\n",
            "                                      Importance\n",
            "Monthly Charges                         4.657807\n",
            "Total Charges                           2.252108\n",
            "Multiple Lines_No phone service         0.661085\n",
            "Paperless Billing                       0.216416\n",
            "Payment Method_Electronic check         0.194524\n",
            "Partner                                 0.174828\n",
            "Online Backup_No internet service       0.029260\n",
            "Online Security_No internet service     0.029260\n",
            "Internet Service_No                     0.029260\n",
            "Streaming Movies_No internet service    0.029260\n"
          ]
        }
      ]
    },
    {
      "cell_type": "markdown",
      "source": [
        "CONCLUSIONES"
      ],
      "metadata": {
        "id": "I2bRX8SZebzN"
      }
    },
    {
      "cell_type": "markdown",
      "source": [
        "### 3.1.2 SHAP Values"
      ],
      "metadata": {
        "id": "gVOyhvElel_A"
      }
    },
    {
      "cell_type": "code",
      "source": [
        "# Valores SHAP\n",
        "show_shap(log_model, X_train_smote, X_test)"
      ],
      "metadata": {
        "colab": {
          "base_uri": "https://localhost:8080/",
          "height": 711,
          "referenced_widgets": [
            "6d828af47d864674941a58668656af25",
            "47f3d6975d444403884568c8f4e10477",
            "8eb6463448b04070b4dbb0fe44772f3a",
            "c632429fd0544df2bf909558b661d51e",
            "0272f1d0a17240218868769402d42ffa",
            "3f03c7825fd74f41a5aac1c2d672c3bd",
            "33a019848db74edc8ab6b692465124b0",
            "e089b811c68748598938559042d3e107",
            "d2a143f04ccd4774bfa184fbc772d24e",
            "88834ced2e30455cbda4bf42f1b220fb",
            "60ecb42add134717b88580186ed11537"
          ]
        },
        "id": "jgcT7Treep-b",
        "outputId": "676c26d6-5131-4d94-e263-5b3fa9d945b5"
      },
      "execution_count": 89,
      "outputs": [
        {
          "data": {
            "application/vnd.jupyter.widget-view+json": {
              "model_id": "6d828af47d864674941a58668656af25",
              "version_major": 2,
              "version_minor": 0
            },
            "text/plain": [
              "  0%|          | 0/2113 [00:00<?, ?it/s]"
            ]
          },
          "metadata": {},
          "output_type": "display_data"
        },
        {
          "output_type": "stream",
          "name": "stdout",
          "text": [
            "\n",
            "Feature Importance con SHAP\n"
          ]
        },
        {
          "output_type": "display_data",
          "data": {
            "text/plain": [
              "<Figure size 900x600 with 1 Axes>"
            ],
            "image/png": "[encoded data removed]"
          },
          "metadata": {}
        },
        {
          "output_type": "stream",
          "name": "stdout",
          "text": [
            "\n",
            "\n"
          ]
        }
      ]
    },
    {
      "cell_type": "markdown",
      "source": [
        "CONCLUSIONES"
      ],
      "metadata": {
        "id": "Ws3_tpLperNQ"
      }
    },
    {
      "cell_type": "markdown",
      "source": [
        "### 3.1.3 Matrix de confusión"
      ],
      "metadata": {
        "id": "QkXZS42uetwp"
      }
    },
    {
      "cell_type": "code",
      "source": [
        "# Matriz de confusión\n",
        "show_conf_matrix(y_test, y_pred_log)"
      ],
      "metadata": {
        "colab": {
          "base_uri": "https://localhost:8080/",
          "height": 600
        },
        "id": "e_I1QpDfe2qo",
        "outputId": "fd7a9ab7-6e94-4ea2-b7cd-53501b9846d4"
      },
      "execution_count": 85,
      "outputs": [
        {
          "output_type": "display_data",
          "data": {
            "text/plain": [
              "<Figure size 1200x600 with 2 Axes>"
            ],
            "image/png": "[encoded data removed]"
          },
          "metadata": {}
        },
        {
          "output_type": "stream",
          "name": "stdout",
          "text": [
            "\n",
            "\n"
          ]
        }
      ]
    },
    {
      "cell_type": "markdown",
      "source": [
        "CONCLUSIONES"
      ],
      "metadata": {
        "id": "YtlbFe5Ke3-y"
      }
    },
    {
      "cell_type": "markdown",
      "source": [
        "### 3.1.4 Curva ROC"
      ],
      "metadata": {
        "id": "Kc_Ob1Ize48J"
      }
    },
    {
      "cell_type": "code",
      "source": [
        "# Curva ROC\n",
        "show_roc_curve(log_model, X_test, y_test)"
      ],
      "metadata": {
        "colab": {
          "base_uri": "https://localhost:8080/",
          "height": 510
        },
        "id": "zx-1169Ze8xK",
        "outputId": "fe2b84cb-56cf-4315-f568-1260ec2c856b"
      },
      "execution_count": 87,
      "outputs": [
        {
          "output_type": "display_data",
          "data": {
            "text/plain": [
              "<Figure size 640x480 with 1 Axes>"
            ],
            "image/png": "[encoded data removed]"
          },
          "metadata": {}
        },
        {
          "output_type": "stream",
          "name": "stdout",
          "text": [
            "ROC Curve AUC: 0.8472894084192635\n",
            "\n"
          ]
        }
      ]
    },
    {
      "cell_type": "markdown",
      "source": [
        "CONCLUSIONES"
      ],
      "metadata": {
        "id": "GfnMkKLHe9yv"
      }
    },
    {
      "cell_type": "markdown",
      "source": [
        "### 3.1.5 Curva Precision-Recall"
      ],
      "metadata": {
        "id": "aixJWoejfAvo"
      }
    },
    {
      "cell_type": "code",
      "source": [
        "# Curva Precision-Recall\n",
        "show_precision_recall(log_model, X_test, y_test)"
      ],
      "metadata": {
        "colab": {
          "base_uri": "https://localhost:8080/",
          "height": 582
        },
        "id": "-eBO55ecfDx8",
        "outputId": "a5c1653a-838b-4ee7-bd8b-dc08852ebf81"
      },
      "execution_count": 88,
      "outputs": [
        {
          "output_type": "display_data",
          "data": {
            "text/plain": [
              "<Figure size 800x600 with 1 Axes>"
            ],
            "image/png": "[encoded data removed]"
          },
          "metadata": {}
        },
        {
          "output_type": "stream",
          "name": "stdout",
          "text": [
            "Precision-Recall AUC: 0.651971417499639\n"
          ]
        }
      ]
    },
    {
      "cell_type": "markdown",
      "source": [
        "CONCLUSIONES"
      ],
      "metadata": {
        "id": "IvCiTinLfEwU"
      }
    },
    {
      "cell_type": "markdown",
      "source": [
        "### 3.1.6 Conclusiones finales"
      ],
      "metadata": {
        "id": "blDjn4r7fJP6"
      }
    },
    {
      "cell_type": "markdown",
      "source": [
        "CONCLUSIONES"
      ],
      "metadata": {
        "id": "xro-p5WPfGip"
      }
    }
  ]
}