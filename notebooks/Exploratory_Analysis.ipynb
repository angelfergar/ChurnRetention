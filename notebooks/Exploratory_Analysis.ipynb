{
  "nbformat": 4,
  "nbformat_minor": 0,
  "metadata": {
    "colab": {
      "provenance": [],
      "authorship_tag": "ABX9TyN9rSUMAm8FflgVY4mCALHw"
    },
    "kernelspec": {
      "name": "python3",
      "display_name": "Python 3"
    },
    "language_info": {
      "name": "python"
    }
  },
  "cells": [
    {
      "cell_type": "markdown",
      "source": [
        "# 1. Instalación e importación de bibliotecas"
      ],
      "metadata": {
        "id": "AgQgq4smpa5X"
      }
    },
    {
      "cell_type": "code",
      "source": [
        "!git clone https://github.com/angelfergar/ChurnRetention-SP.git"
      ],
      "metadata": {
        "colab": {
          "base_uri": "https://localhost:8080/"
        },
        "id": "Ppi1Hn7qmwDA",
        "outputId": "bacc1fda-825d-48ef-c10e-515f9dd6fffb"
      },
      "execution_count": 6,
      "outputs": [
        {
          "output_type": "stream",
          "name": "stdout",
          "text": [
            "Cloning into 'ChurnRetention'...\n",
            "remote: Enumerating objects: 12, done.\u001b[K\n",
            "remote: Counting objects: 100% (12/12), done.\u001b[K\n",
            "remote: Compressing objects: 100% (9/9), done.\u001b[K\n",
            "remote: Total 12 (delta 2), reused 12 (delta 2), pack-reused 0 (from 0)\u001b[K\n",
            "Receiving objects: 100% (12/12), 1.26 MiB | 7.75 MiB/s, done.\n",
            "Resolving deltas: 100% (2/2), done.\n"
          ]
        }
      ]
    },
    {
      "cell_type": "code",
      "source": [
        "!pip install squarify"
      ],
      "metadata": {
        "colab": {
          "base_uri": "https://localhost:8080/"
        },
        "id": "bbuE08uInqYJ",
        "outputId": "e7f7a093-1fbb-45f8-8c81-10e74dcf9fd9"
      },
      "execution_count": 11,
      "outputs": [
        {
          "output_type": "stream",
          "name": "stdout",
          "text": [
            "Collecting squarify\n",
            "  Downloading squarify-0.4.4-py3-none-any.whl.metadata (600 bytes)\n",
            "Downloading squarify-0.4.4-py3-none-any.whl (4.1 kB)\n",
            "Installing collected packages: squarify\n",
            "Successfully installed squarify-0.4.4\n"
          ]
        }
      ]
    },
    {
      "cell_type": "code",
      "execution_count": 12,
      "metadata": {
        "id": "mx3ZwlqrlVue"
      },
      "outputs": [],
      "source": [
        "import numpy as np\n",
        "import pandas as pd\n",
        "import matplotlib\n",
        "import matplotlib.pyplot as plt\n",
        "import seaborn as sns\n",
        "import squarify"
      ]
    },
    {
      "cell_type": "code",
      "source": [
        "dataset_path = '/content/ChurnRetention-SP/data/raw_customerChurn.xlsx'\n",
        "df = pd.read_excel(dataset_path)"
      ],
      "metadata": {
        "id": "rFGHWGPrlvnP"
      },
      "execution_count": 13,
      "outputs": []
    },
    {
      "cell_type": "markdown",
      "source": [
        "# 2. Investiagación sobre el Dataset"
      ],
      "metadata": {
        "id": "ObilkkIopijH"
      }
    },
    {
      "cell_type": "markdown",
      "source": [
        "Lo primero que haremos será obtener información sobre los datos contenidos en cada una de las columnas"
      ],
      "metadata": {
        "id": "BYJWaTLAplVB"
      }
    },
    {
      "cell_type": "code",
      "source": [
        "df.info()"
      ],
      "metadata": {
        "colab": {
          "base_uri": "https://localhost:8080/"
        },
        "id": "quSVmMswnBpn",
        "outputId": "ef186b6a-ec42-4e21-bf9b-59523631ede5"
      },
      "execution_count": 15,
      "outputs": [
        {
          "output_type": "stream",
          "name": "stdout",
          "text": [
            "<class 'pandas.core.frame.DataFrame'>\n",
            "RangeIndex: 7043 entries, 0 to 7042\n",
            "Data columns (total 33 columns):\n",
            " #   Column             Non-Null Count  Dtype  \n",
            "---  ------             --------------  -----  \n",
            " 0   CustomerID         7043 non-null   object \n",
            " 1   Count              7043 non-null   int64  \n",
            " 2   Country            7043 non-null   object \n",
            " 3   State              7043 non-null   object \n",
            " 4   City               7043 non-null   object \n",
            " 5   Zip Code           7043 non-null   int64  \n",
            " 6   Lat Long           7043 non-null   object \n",
            " 7   Latitude           7043 non-null   float64\n",
            " 8   Longitude          7043 non-null   float64\n",
            " 9   Gender             7043 non-null   object \n",
            " 10  Senior Citizen     7043 non-null   object \n",
            " 11  Partner            7043 non-null   object \n",
            " 12  Dependents         7043 non-null   object \n",
            " 13  Tenure Months      7043 non-null   int64  \n",
            " 14  Phone Service      7043 non-null   object \n",
            " 15  Multiple Lines     7043 non-null   object \n",
            " 16  Internet Service   7043 non-null   object \n",
            " 17  Online Security    7043 non-null   object \n",
            " 18  Online Backup      7043 non-null   object \n",
            " 19  Device Protection  7043 non-null   object \n",
            " 20  Tech Support       7043 non-null   object \n",
            " 21  Streaming TV       7043 non-null   object \n",
            " 22  Streaming Movies   7043 non-null   object \n",
            " 23  Contract           7043 non-null   object \n",
            " 24  Paperless Billing  7043 non-null   object \n",
            " 25  Payment Method     7043 non-null   object \n",
            " 26  Monthly Charges    7043 non-null   float64\n",
            " 27  Total Charges      7043 non-null   object \n",
            " 28  Churn Label        7043 non-null   object \n",
            " 29  Churn Value        7043 non-null   int64  \n",
            " 30  Churn Score        7043 non-null   int64  \n",
            " 31  CLTV               7043 non-null   int64  \n",
            " 32  Churn Reason       1869 non-null   object \n",
            "dtypes: float64(3), int64(6), object(24)\n",
            "memory usage: 1.8+ MB\n"
          ]
        }
      ]
    },
    {
      "cell_type": "markdown",
      "source": [
        "Las conclusiones que obtenemos en este análisis inicial son:\n",
        "\n",
        "\n",
        "1.    Apenas hay nulls en el dataset. La única columna que presenta valores nulos es Churn Reason\n",
        "2.   Total Charges es una columna que debería contener valores numéricos y su dtype es object inicialmente\n",
        "3. Revisando los valores contenidos en cada columna vemos que todos los datos de los clientes pertenecen a usuarios en el estado de California, Estados Unidos. Por esta razón, toda la información relacionada con su localización\n",
        "no será relevante para este proyecto.\n",
        "4. Como el objetivo de este proyecto es obtener los datos de Churn, se obviarán estas columnas, salvo Churn Label, que es nuestra etiqueta a la hora del modelado de machine learning, y Churn Reason, que la usaremos para tratar de sacar conclusiones sobre los abandonos de los clientes.\n",
        "\n",
        "\n",
        "\n",
        "\n"
      ],
      "metadata": {
        "id": "iLvTCEOsp1P5"
      }
    },
    {
      "cell_type": "code",
      "source": [
        "df.drop(columns=['CustomerID', 'Country', 'Count', 'State', 'City', 'Zip Code', 'Latitude', 'Longitude', 'Lat Long', 'Churn Value', 'Churn Score', 'CLTV'], inplace=True)"
      ],
      "metadata": {
        "id": "shcgTF5Gq48G"
      },
      "execution_count": 17,
      "outputs": []
    },
    {
      "cell_type": "markdown",
      "source": [
        "## 2.1 Transformación de valores y eliminación de nulls"
      ],
      "metadata": {
        "id": "fdABs4DWq6Hz"
      }
    },
    {
      "cell_type": "markdown",
      "source": [
        "Una vez eliminadas las columnas irrelevantes, transformamos Total Charges en valor numérico para que sea coherente con el resto de columnas que contienen números."
      ],
      "metadata": {
        "id": "PqSZG1gKrA8m"
      }
    },
    {
      "cell_type": "code",
      "source": [],
      "metadata": {
        "id": "M6dHbnrMrC0O"
      },
      "execution_count": null,
      "outputs": []
    }
  ]
}